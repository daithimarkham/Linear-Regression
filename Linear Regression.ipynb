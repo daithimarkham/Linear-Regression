{
 "cells": [
  {
   "cell_type": "markdown",
   "metadata": {},
   "source": [
    "# Simple Linear Regression with Numpy"
   ]
  },
  {
   "cell_type": "markdown",
   "metadata": {},
   "source": [
    "### Topic One\n",
    "Plot the following equation:\n",
    "\n",
    "y = 2x + 1"
   ]
  },
  {
   "cell_type": "code",
   "execution_count": 17,
   "metadata": {},
   "outputs": [
    {
     "data": {
      "image/png": "[encoded data removed]",
      "text/plain": [
       "<Figure size 576x432 with 1 Axes>"
      ]
     },
     "metadata": {
      "needs_background": "light"
     },
     "output_type": "display_data"
    }
   ],
   "source": [
    "# Import matplotlib\n",
    "import matplotlib.pyplot as plt\n",
    "\n",
    "# Draw the axis\n",
    "plt.plot([-1, 10], [0, 0], 'k-')\n",
    "plt.plot([-1, 0], [-1, 10], 'k-')\n",
    "\n",
    "# Plot the red, green and blue lines.\n",
    "plt.plot([1, 1], [-1, 3], 'b:')\n",
    "plt.plot([-1, 1], [3, 3], 'r:')\n",
    "\n",
    "# Plot the two points (1,3), and (2,5)\n",
    "plt.plot([1, 2], [3, 5], 'ko')\n",
    "\n",
    "# Join then with an extending green line.\n",
    "plt.plot([-1, 10], [-1, 21], 'g-')\n",
    "\n",
    "# Set some reasonable plot limits \n",
    "plt.xlim([-1, 10])\n",
    "plt.ylim([-1, 10])\n",
    "\n",
    "# Show the plot\n",
    "plt.show()"
   ]
  },
  {
   "cell_type": "markdown",
   "metadata": {},
   "source": [
    "### Topic Two\n",
    "Simulating an experiment in Numpy.\n",
    "- Is there linear relationship bewteen the spring hanging down and the weight. "
   ]
  },
  {
   "cell_type": "markdown",
   "metadata": {},
   "source": [
    "![title](WeightTaskLinear.png)"
   ]
  },
  {
   "cell_type": "code",
   "execution_count": 2,
   "metadata": {},
   "outputs": [],
   "source": [
    "# Shows interactive plots in the notebook\n",
    "%matplotlib inline"
   ]
  },
  {
   "cell_type": "code",
   "execution_count": 3,
   "metadata": {},
   "outputs": [],
   "source": [
    "# Deals with numerical multi-dimensional arrays.\n",
    "import numpy as np\n",
    "\n",
    "import matplotlib.pyplot as plt # Plotting library, pyplot is it's eaasy to use module.\n",
    "\n",
    "plt.rcParams['figure.figsize'] = (8, 6) # Sets default plot size to be bigger."
   ]
  },
  {
   "cell_type": "code",
   "execution_count": 9,
   "metadata": {},
   "outputs": [],
   "source": [
    "# X values is w for weight.\n",
    "w = np.arange (0.0, 21.0, 1.0) # weight, list of values from 0 to 21.\n",
    "# Y values is D, distance spring is hanging down, based on value of w.\n",
    "# D = Take the values in w, multiply by 5 and then add 10.\n",
    "# Random numbers, normal distribution, will display bell curve gen random values on.\n",
    "# Going to be a standard deviation of 5, how far away from zero willing to go.\n",
    "# W.size is the number of random numbers, going be 21 random values,\n",
    "# They will be addeed to our 5 + 10\n",
    "# Will be lookig for Numpy to tell us 5 and 10 are the values that fits best.\n",
    "d = 5.0 * w + 10.0 + np.random.normal(0.0, 5.0, w.size) # Distance spring is hanging down."
   ]
  },
  {
   "cell_type": "markdown",
   "metadata": {},
   "source": [
    "Can see here what the fucntion np.random.normal does does."
   ]
  },
  {
   "cell_type": "code",
   "execution_count": 14,
   "metadata": {},
   "outputs": [
    {
     "data": {
      "text/plain": [
       "array([ 4.95031513, -3.98142041, -6.03767415, 12.18550777, -0.35091221,\n",
       "        9.20355834, -2.26482915, -1.33119528, -2.19140647, -0.44873813,\n",
       "        6.28948681,  3.00561408, -1.69356681, -4.07482536,  0.783028  ,\n",
       "       -4.93918952,  2.93559413,  4.97634588, -3.31016705,  6.04368294,\n",
       "       -3.03833139])"
      ]
     },
     "execution_count": 14,
     "metadata": {},
     "output_type": "execute_result"
    }
   ],
   "source": [
    "np.random.normal(0.0, 5.0, w.size)"
   ]
  },
  {
   "cell_type": "code",
   "execution_count": 15,
   "metadata": {},
   "outputs": [
    {
     "data": {
      "text/plain": [
       "array([ 0.,  1.,  2.,  3.,  4.,  5.,  6.,  7.,  8.,  9., 10., 11., 12.,\n",
       "       13., 14., 15., 16., 17., 18., 19., 20.])"
      ]
     },
     "execution_count": 15,
     "metadata": {},
     "output_type": "execute_result"
    }
   ],
   "source": [
    "# So say w is measuring 5, look in the d function below,\n",
    "# you will see it is hanging down 28.8cm\n",
    "w"
   ]
  },
  {
   "cell_type": "code",
   "execution_count": 11,
   "metadata": {},
   "outputs": [
    {
     "data": {
      "text/plain": [
       "array([  8.53517162,  23.09349644,  13.5751495 ,  27.30058423,\n",
       "        28.84928256,  41.92087849,  36.32595493,  43.69980031,\n",
       "        49.37518727,  53.96122717,  59.03833821,  68.24168373,\n",
       "        63.8653774 ,  76.42043475,  86.74665629,  75.90860991,\n",
       "        97.23603332,  88.7243926 ,  92.94115694, 106.84569057,\n",
       "       101.01193918])"
      ]
     },
     "execution_count": 11,
     "metadata": {},
     "output_type": "execute_result"
    }
   ],
   "source": [
    "d"
   ]
  },
  {
   "cell_type": "markdown",
   "metadata": {},
   "source": [
    "Create the plot."
   ]
  },
  {
   "cell_type": "code",
   "execution_count": 18,
   "metadata": {},
   "outputs": [
    {
     "data": {
      "image/png": "[encoded data removed]",
      "text/plain": [
       "<Figure size 576x432 with 1 Axes>"
      ]
     },
     "metadata": {
      "needs_background": "light"
     },
     "output_type": "display_data"
    }
   ],
   "source": [
    "plt.plot(w, d, 'k.')\n",
    "# Set properties for the plot.\n",
    "plt.xlabel('Weight, (KG)')\n",
    "plt.ylabel('Distance, CM')\n",
    "\n",
    "# Show the plot, with the 21 data points.\n",
    "plt.show()"
   ]
  },
  {
   "cell_type": "markdown",
   "metadata": {},
   "source": [
    "As we can see from the plot above, the line is nearly linear. You can justify that by explaining, there is no points in the uppper left triangle, or lower right triangle, so there seems to be some mechanism between relationship in the weight and distance. There is no curve in the line either."
   ]
  },
  {
   "cell_type": "markdown",
   "metadata": {},
   "source": [
    "### Topic Three\n",
    "\n",
    "Explanation of what a linear model is."
   ]
  },
  {
   "cell_type": "markdown",
   "metadata": {},
   "source": [
    "![title](WeightTaskLinearImage2.png)"
   ]
  },
  {
   "cell_type": "code",
   "execution_count": 25,
   "metadata": {},
   "outputs": [
    {
     "data": {
      "image/png": "[encoded data removed]",
      "text/plain": [
       "<Figure size 576x432 with 1 Axes>"
      ]
     },
     "metadata": {
      "needs_background": "light"
     },
     "output_type": "display_data"
    }
   ],
   "source": [
    "# Plot w vs d with black dots.\n",
    "plt.plot(w, d, 'k.', label=\"Data\")\n",
    "\n",
    "# Overlay some lines on the plot\n",
    "x = np.arange(0.0, 21.0, 1.0)\n",
    "plt.plot(x, 5.0 * x + 10.0, 'r-', label=r\"$5x + 10$\")\n",
    "plt.plot(x, 6.0 * x +  5.0, 'g-', label=r\"$6x + 5$\")\n",
    "plt.plot(x, 5.0 * x + 15.0, 'b-', label=r\"$5x + 15$\")\n",
    "         \n",
    "# Add legend\n",
    "plt.legend()\n",
    "\n",
    "# Add the axis labels\n",
    "plt.xlabel('Weight (KG)')\n",
    "plt.ylabel('Distance CM')\n",
    "         \n",
    "# Show plot\n",
    "plt.show()"
   ]
  },
  {
   "cell_type": "markdown",
   "metadata": {},
   "source": [
    "#### Three lines.\n",
    "\n",
    "- You can see from above, the red line, and the original data we made up, 5x + 10, is not a bad fit, some points are a little above and a little below it.\n",
    "\n",
    "\n",
    "- The green line, is steeper, because it's 6x, tells you how much the line changes and becomes steeper every time you increase X by one. So, every time you go out one on the x axis, you go up 6 on the y axis. That's what the slope means. A lot of the points in the upper range are above the green line, while in the lower range, they are below it. Means that certain points are below and above, so this means that something extra is going on here, line is too steep.\n",
    "\n",
    "\n",
    "- The blue line, too has a slope of five. It is parallel with red line, same value, 5x. The blue line crosses the y axis at the point 15, the red line crosses it at 10. The green line does it at 5, look at the bottom left corner on the the plot.\n",
    "\n",
    "\n",
    "- The red line looks better, and we know it's a better candidate, because we faked up the data. \n",
    "\n",
    "\n"
   ]
  },
  {
   "cell_type": "markdown",
   "metadata": {},
   "source": [
    "### Topic Four\n"
   ]
  },
  {
   "cell_type": "markdown",
   "metadata": {},
   "source": [
    "##### The best line for the data-set.\n",
    "the red line the best, and does it make sense to talk about the best line to fit the data-set?"
   ]
  },
  {
   "cell_type": "markdown",
   "metadata": {},
   "source": [
    "**Calculating the cost.**"
   ]
  },
  {
   "cell_type": "markdown",
   "metadata": {},
   "source": [
    "![title](BestLine.png)"
   ]
  },
  {
   "cell_type": "markdown",
   "metadata": {},
   "source": [
    "The formula above least square fitting is explained a bit further below.\n",
    "\n",
    "- Big Zigma i (symbol looks like a big capitol E) with i underneath. Which means, sum over all i values. We have 21 points in our data. (0, 1,2,3 all up to 20)\n",
    "\n",
    "- The part of the formula in brackets is, the difference between the observed y value, what you measured, and what the model says the y value should be, based on the observed or measured x value. \n",
    "\n",
    "- The **least squares method** is a statistical procedure to find the best fit for a set of data points by minimizing the sum of the offsets or residuals of points from the plotted curve. Least squares regression is used to predict the behavior of dependent variables. \n",
    "\n",
    "- It's called a “least squares” because the best line of fit is one that minimizes the variance (the sum of squares of the errors). This can be a bit hard to visualize but the main point is you are aiming to find the equation that fits the points as closely as possible.\n",
    "\n",
    "What is the difference between linear regression and least squares?\n",
    "\n",
    "- Linear Regression is a statistical analysis for predicting the value of a quantitative variable. ... Least squares is one of the methods to find the best fit line for a dataset using linear regression"
   ]
  },
  {
   "cell_type": "markdown",
   "metadata": {},
   "source": [
    "If all the dots were perfectly on the line, the calculation above would give us a zero, otherwise it's some postive number. "
   ]
  },
  {
   "cell_type": "code",
   "execution_count": 34,
   "metadata": {},
   "outputs": [
    {
     "name": "stdout",
     "output_type": "stream",
     "text": [
      "Red line Cost with m   =  5.00 and c = 10.00:   687.89\n",
      "Green Line Cost with m =  6.00 and c =  5.00:  1884.85\n",
      "Blue Line Cost with m  =  5.00 and c = 15.00:  1463.83\n"
     ]
    }
   ],
   "source": [
    "# Calculate the cost of the lines, for the above data.\n",
    "# ** means square value, sum it up.\n",
    "cost = lambda m,c: np.sum([(d[i] - m * w[i] -c) **2 for i in range(w.size)]) \n",
    "\n",
    "print(\"Red line Cost with m   = %5.2f and c = %5.2f: %8.2f\" % (5.0, 10.0, cost (5.0, 10.0))) \n",
    "print(\"Green Line Cost with m = %5.2f and c = %5.2f: %8.2f\" % (6.0, 5.0, cost (6.0, 5.0))) \n",
    "print(\"Blue Line Cost with m  = %5.2f and c = %5.2f: %8.2f\" % (5.0, 15.0, cost (5.0, 15.0))) "
   ]
  },
  {
   "cell_type": "markdown",
   "metadata": {},
   "source": [
    "The above results show that the red line is clearly the best fit out of the three, with the green line the worst."
   ]
  },
  {
   "cell_type": "markdown",
   "metadata": {},
   "source": [
    "### Minimizing the cost\n",
    "\n",
    "Find values for m and c that give us the lowest cost. "
   ]
  },
  {
   "cell_type": "markdown",
   "metadata": {},
   "source": [
    "![title](MinTheCost.png)"
   ]
  },
  {
   "cell_type": "code",
   "execution_count": 35,
   "metadata": {},
   "outputs": [
    {
     "name": "stdout",
     "output_type": "stream",
     "text": [
      "M is 5.226608 and c is 6.538961.\n"
     ]
    }
   ],
   "source": [
    "# Calculate the best values for m and c.\n",
    "\n",
    "# Cal the means, (averages of w and d)\n",
    "w_avg = np.mean(w)\n",
    "d_avg = np.mean(d)\n",
    "\n",
    "# Subtract means from w and d\n",
    "w_zero = w - w_avg\n",
    "d_zero = d -d_avg\n",
    "\n",
    "# The best m is found by the following calculation\n",
    "m = np.sum(w_zero * d_zero) / np.sum(w_zero * w_zero)\n",
    "# Use m from above to calculate the best c.\n",
    "c = d_avg -m * w_avg\n",
    "\n",
    "print(\"M is %8.6f and c is %6.6f.\" % (m, c))"
   ]
  },
  {
   "cell_type": "markdown",
   "metadata": {},
   "source": [
    "Note that numpy has a function that will perform this cal for us, called polyfit. Can be used to fit lines in many dimensions."
   ]
  },
  {
   "cell_type": "markdown",
   "metadata": {},
   "source": [
    "- We started of with the slope being 5, the y intercept was 10.\n",
    "- We added in a bit of noise.\n",
    "- So we can see below that the best fit for the slope is 5.2, and the best fit for the y intercept is 6.5."
   ]
  },
  {
   "cell_type": "markdown",
   "metadata": {},
   "source": [
    "#### The polyfit function below, is a shortcut, instead of doing all the code directly above, this function displays the same output."
   ]
  },
  {
   "cell_type": "code",
   "execution_count": 38,
   "metadata": {},
   "outputs": [
    {
     "data": {
      "text/plain": [
       "array([5.22660806, 6.53896078])"
      ]
     },
     "execution_count": 38,
     "metadata": {},
     "output_type": "execute_result"
    }
   ],
   "source": [
    "# Pass in your two values, x and y, displays the two arrays.\n",
    "# Is the straight line, 2 would be for x squared.\n",
    "np.polyfit(w, d, 1)"
   ]
  },
  {
   "cell_type": "markdown",
   "metadata": {},
   "source": [
    "### Best line fit\n",
    "\n",
    "Now we can plot the best fit line from our dataset. "
   ]
  },
  {
   "cell_type": "code",
   "execution_count": 39,
   "metadata": {},
   "outputs": [
    {
     "data": {
      "image/png": "[encoded data removed]",
      "text/plain": [
       "<Figure size 576x432 with 1 Axes>"
      ]
     },
     "metadata": {
      "needs_background": "light"
     },
     "output_type": "display_data"
    }
   ],
   "source": [
    "# Plot the best fit line\n",
    "plt.plot(w, d, 'k.', label='Original data')\n",
    "plt.plot(w, m * w + c, 'b-', label='Best Fit Line')\n",
    "\n",
    "# Add axis labels and a legend\n",
    "plt.xlabel('Weight (KG)')\n",
    "plt.ylabel('Distance CM')\n",
    "plt.legend()\n",
    "\n",
    "# Show the plot.\n",
    "plt.show()"
   ]
  },
  {
   "cell_type": "markdown",
   "metadata": {},
   "source": [
    "Note that the cost of the best  and the best c is not zero in this case."
   ]
  },
  {
   "cell_type": "code",
   "execution_count": 40,
   "metadata": {},
   "outputs": [
    {
     "name": "stdout",
     "output_type": "stream",
     "text": [
      "Cost with m =  5.23 and c =  6.54:   618.36\n"
     ]
    }
   ],
   "source": [
    "print(\"Cost with m = %5.2f and c = %5.2f: %8.2f\" % (m, c, cost(m, c)))"
   ]
  },
  {
   "cell_type": "markdown",
   "metadata": {},
   "source": [
    "The cost is 618.36. There is no straight line that fits, with the cost of zero, cause the lines are not all co-linear."
   ]
  },
  {
   "cell_type": "markdown",
   "metadata": {},
   "source": [
    "### Summary"
   ]
  },
  {
   "cell_type": "markdown",
   "metadata": {},
   "source": [
    "1. Investigated the data.\n",
    "2. Picked a model.\n",
    "3. Picked a cost function. \n",
    "4. Estimated the model parameters values that minimized our cost function. "
   ]
  },
  {
   "cell_type": "markdown",
   "metadata": {},
   "source": [
    "You can also find more information on Linear Regression <a href=\"https://realpython.com/linear-regression-in-python/\">here.</a>"
   ]
  },
  {
   "cell_type": "code",
   "execution_count": null,
   "metadata": {},
   "outputs": [],
   "source": []
  }
 ],
 "metadata": {
  "kernelspec": {
   "display_name": "Python 3",
   "language": "python",
   "name": "python3"
  },
  "language_info": {
   "codemirror_mode": {
    "name": "ipython",
    "version": 3
   },
   "file_extension": ".py",
   "mimetype": "text/x-python",
   "name": "python",
   "nbconvert_exporter": "python",
   "pygments_lexer": "ipython3",
   "version": "3.7.1"
  }
 },
 "nbformat": 4,
 "nbformat_minor": 2
}
